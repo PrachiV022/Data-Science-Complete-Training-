{
 "cells": [
  {
   "cell_type": "markdown",
   "id": "240d3f76-ffa2-47ce-8fd8-4676401e210b",
   "metadata": {},
   "source": [
    "# Inhertance"
   ]
  },
  {
   "cell_type": "code",
   "execution_count": 1,
   "id": "91611cfe-48ca-428f-819c-f83449cb8658",
   "metadata": {},
   "outputs": [],
   "source": [
    "# simple inheritance(single)\n",
    "# multiple inheritance\n",
    "# multilevel inheritance\n",
    "# hybrid inheritance"
   ]
  },
  {
   "cell_type": "code",
   "execution_count": 2,
   "id": "c210de06-362d-49ef-a5b2-b27398aafa71",
   "metadata": {},
   "outputs": [],
   "source": [
    "# simple inheritance\n",
    "# class"
   ]
  },
  {
   "cell_type": "code",
   "execution_count": 11,
   "id": "4e57e219-11dd-4e64-8c6e-64d729d0c272",
   "metadata": {},
   "outputs": [],
   "source": [
    "class BMW:\n",
    "    def super_turbo_engine(self): #parent class, super class, base class\n",
    "        print('super_turbo_engine Fast Speed')\n",
    "\n",
    "class Audi(BMW):# child class, subclass\n",
    "    def auto_pilot(self):\n",
    "        print('can run on auto pilot mode!!')\n",
    "        "
   ]
  },
  {
   "cell_type": "code",
   "execution_count": 12,
   "id": "87884510-65ea-44c1-9ace-33efcdffb7f5",
   "metadata": {},
   "outputs": [],
   "source": [
    "audi_r8 = Audi()"
   ]
  },
  {
   "cell_type": "code",
   "execution_count": 13,
   "id": "a79c9203-5337-4dbe-96e0-318307f92f05",
   "metadata": {},
   "outputs": [
    {
     "name": "stdout",
     "output_type": "stream",
     "text": [
      "can run on auto pilot mode!!\n"
     ]
    }
   ],
   "source": [
    "audi_r8.auto_pilot()"
   ]
  },
  {
   "cell_type": "code",
   "execution_count": 14,
   "id": "5bbc0628-0fea-41de-b4c1-379d8ff7365c",
   "metadata": {},
   "outputs": [
    {
     "name": "stdout",
     "output_type": "stream",
     "text": [
      "super_turbo_engine Fast Speed\n"
     ]
    }
   ],
   "source": [
    "audi_r8.super_turbo_engine()"
   ]
  },
  {
   "cell_type": "code",
   "execution_count": 15,
   "id": "32d66cf7-f1d7-4130-a5f6-e0e01f1f3f12",
   "metadata": {},
   "outputs": [],
   "source": [
    "# multiple inheritance"
   ]
  },
  {
   "cell_type": "code",
   "execution_count": 35,
   "id": "b6fa8fd4-deda-4a30-859a-8eb9f1924b88",
   "metadata": {},
   "outputs": [],
   "source": [
    "class Mobile:\n",
    "    ...#pass\n",
    "\n",
    "class Daily_object:\n",
    "    def phone_case(self):\n",
    "        print('Strong Build Phone Case')\n",
    "\n",
    "class JBL:\n",
    "    def sonic_speaker(self):\n",
    "        print('hingh quality sound speaker')\n",
    "\n",
    "class Samsung:\n",
    "    def screen_display(self):\n",
    "        print('4k HD display')\n",
    "\n",
    "class Nvindia:\n",
    "    def motherboard(self):\n",
    "        print('fast motherboard')\n",
    "\n",
    "class Sony:\n",
    "    def camera(self):\n",
    "        print('4k camera')\n",
    "\n",
    "class Lava:\n",
    "    def charger(self):\n",
    "        print('superfast charger lava')\n",
    "\n",
    "class One_plus:\n",
    "    def charger(self):\n",
    "        print('original superfast charger!!')\n",
    "\n",
    "class Mobile(Daily_object,JBL,Samsung,Sony,Nvindia,One_plus,Lava):\n",
    "    def __init__(self):\n",
    "        print('Phone object created successfully!!')\n",
    "\n",
    "    def charger(self):\n",
    "        print('actual charger from mobile')"
   ]
  },
  {
   "cell_type": "code",
   "execution_count": 36,
   "id": "1d0d791e-56a5-4345-a58d-e1c2acc98789",
   "metadata": {},
   "outputs": [
    {
     "name": "stdout",
     "output_type": "stream",
     "text": [
      "Phone object created successfully!!\n"
     ]
    }
   ],
   "source": [
    "Nothing = Mobile()"
   ]
  },
  {
   "cell_type": "code",
   "execution_count": 37,
   "id": "1018f8e9-2815-45dc-b49d-f320d66b477a",
   "metadata": {},
   "outputs": [
    {
     "name": "stdout",
     "output_type": "stream",
     "text": [
      "Strong Build Phone Case\n"
     ]
    }
   ],
   "source": [
    "Nothing.phone_case()"
   ]
  },
  {
   "cell_type": "code",
   "execution_count": 38,
   "id": "7603f5f5-8589-4d22-99d5-41c217011cd5",
   "metadata": {},
   "outputs": [
    {
     "name": "stdout",
     "output_type": "stream",
     "text": [
      "4k HD display\n"
     ]
    }
   ],
   "source": [
    "Nothing.screen_display()\n",
    "\n"
   ]
  },
  {
   "cell_type": "code",
   "execution_count": 39,
   "id": "7146e5c1-bc54-455c-ab9a-a36bc63f9624",
   "metadata": {},
   "outputs": [
    {
     "name": "stdout",
     "output_type": "stream",
     "text": [
      "actual charger from mobile\n"
     ]
    }
   ],
   "source": [
    "Nothing.charger()"
   ]
  },
  {
   "cell_type": "code",
   "execution_count": 40,
   "id": "6c218d1e-8545-4a1b-b551-ed5c83fb5472",
   "metadata": {},
   "outputs": [],
   "source": [
    "#multilevel inheritance"
   ]
  },
  {
   "cell_type": "code",
   "execution_count": 44,
   "id": "2e2c5480-3a29-4003-a47a-e34e0c7c2612",
   "metadata": {},
   "outputs": [],
   "source": [
    "class GrandFather: #superclass\n",
    "    def land_property(self):\n",
    "        print('land property!!')\n",
    "\n",
    "class Father(GrandFather): #subclass\n",
    "    def bank_balance(self):\n",
    "        print('Big Money Player , Huge Bank Balance')\n",
    "\n",
    "class Son(Father): #subclass\n",
    "    def political_power(self):\n",
    "        print('Political power')\n",
    "\n",
    "class Grandson(Son): #subclass\n",
    "    def mind(self):\n",
    "        print('self study')\n",
    "\n",
    "class Friend(Grandson): #subclass\n",
    "    def __init__(self):\n",
    "        print('nothing!!')"
   ]
  },
  {
   "cell_type": "code",
   "execution_count": 45,
   "id": "7164a209-8ae7-40fa-9bd2-53b0babb71dc",
   "metadata": {},
   "outputs": [
    {
     "name": "stdout",
     "output_type": "stream",
     "text": [
      "done!!\n"
     ]
    }
   ],
   "source": [
    "Aman = Grandson()\n",
    "print('done!!')"
   ]
  },
  {
   "cell_type": "code",
   "execution_count": 46,
   "id": "5cd67e6c-10e6-4bff-bac4-3458463b72d1",
   "metadata": {},
   "outputs": [
    {
     "name": "stdout",
     "output_type": "stream",
     "text": [
      "land property!!\n"
     ]
    }
   ],
   "source": [
    "Aman.land_property()"
   ]
  },
  {
   "cell_type": "code",
   "execution_count": 48,
   "id": "79713ef0-69e2-4931-ae8d-18e3cc47994b",
   "metadata": {},
   "outputs": [
    {
     "name": "stdout",
     "output_type": "stream",
     "text": [
      "nothing!!\n"
     ]
    }
   ],
   "source": [
    "Karan = Friend()"
   ]
  },
  {
   "cell_type": "code",
   "execution_count": 49,
   "id": "e7d2cf06-7ddf-4c55-a25a-cf45a01fa708",
   "metadata": {},
   "outputs": [
    {
     "name": "stdout",
     "output_type": "stream",
     "text": [
      "self study\n"
     ]
    }
   ],
   "source": [
    "Karan.mind()"
   ]
  },
  {
   "cell_type": "code",
   "execution_count": 50,
   "id": "3f9f222e-d2af-498c-9c88-cc223b8059cb",
   "metadata": {
    "jp-MarkdownHeadingCollapsed": true
   },
   "outputs": [],
   "source": [
    "#hybrid inheritance "
   ]
  },
  {
   "cell_type": "code",
   "execution_count": 51,
   "id": "0dbce7a0-f367-486f-b71d-15c84e30f7cb",
   "metadata": {},
   "outputs": [],
   "source": [
    "class Hybrid_class(Mobile,Friend,Audi): #mobile multiple, friend multilevel, audi simple\n",
    "    def __init__(self):\n",
    "        print('It ia a hybrid class')\n",
    "\n",
    "    def info(self):\n",
    "        print('it can call any methods!!')"
   ]
  },
  {
   "cell_type": "code",
   "execution_count": 52,
   "id": "203937b1-516c-4fde-8140-3509d06ce188",
   "metadata": {},
   "outputs": [
    {
     "name": "stdout",
     "output_type": "stream",
     "text": [
      "It ia a hybrid class\n"
     ]
    }
   ],
   "source": [
    "ob = Hybrid_class()"
   ]
  },
  {
   "cell_type": "code",
   "execution_count": 53,
   "id": "15992906-9c61-411a-826d-c39204b57c51",
   "metadata": {},
   "outputs": [
    {
     "name": "stdout",
     "output_type": "stream",
     "text": [
      "it can call any methods!!\n"
     ]
    }
   ],
   "source": [
    "ob.info()"
   ]
  },
  {
   "cell_type": "code",
   "execution_count": 54,
   "id": "4764c4a2-6d90-4b29-9fa5-c12239bfc073",
   "metadata": {},
   "outputs": [
    {
     "name": "stdout",
     "output_type": "stream",
     "text": [
      "hingh quality sound speaker\n"
     ]
    }
   ],
   "source": [
    "ob.sonic_speaker()"
   ]
  },
  {
   "cell_type": "code",
   "execution_count": 55,
   "id": "cd46eb35-4b2c-4460-bff6-0a7c27805e9e",
   "metadata": {},
   "outputs": [],
   "source": [
    "class UGC:\n",
    "    def __init__(self):\n",
    "        print('Grant Permission')\n",
    "    def college_approved(sel):\n",
    "        print('colleges have bee approveed')\n",
    "\n",
    "class DU(UGC):\n",
    "    def multiple_colleges(self):\n",
    "        print('list of colleges!!')\n",
    "\n",
    "class IP(UGC):\n",
    "    def multiple_colleges(self):\n",
    "        print('list of colleges!!')\n",
    "\n",
    "class DTU(UGC):\n",
    "    def multiple_colleges(self):\n",
    "        print('list of colleges!!')\n",
    "\n",
    "class BHU(UGC):\n",
    "    def multiple_colleges(self):\n",
    "        print('list of colleges!!')\n",
    "\n"
   ]
  },
  {
   "cell_type": "code",
   "execution_count": 56,
   "id": "c730a978-5f46-457c-aba7-e44be7440eb5",
   "metadata": {},
   "outputs": [],
   "source": [
    "#plymorphism"
   ]
  },
  {
   "cell_type": "code",
   "execution_count": 57,
   "id": "40d195b4-a856-4a51-b263-059127c38510",
   "metadata": {},
   "outputs": [
    {
     "data": {
      "text/plain": [
       "'6914'"
      ]
     },
     "execution_count": 57,
     "metadata": {},
     "output_type": "execute_result"
    }
   ],
   "source": [
    "a='69'\n",
    "b='14'\n",
    "\n",
    "a+b"
   ]
  },
  {
   "cell_type": "code",
   "execution_count": 58,
   "id": "82b007ad-06b0-4c74-bf79-7be0a91ee5ec",
   "metadata": {},
   "outputs": [
    {
     "data": {
      "text/plain": [
       "[5, 8, 6, 5, 4, 8, 6, 3]"
      ]
     },
     "execution_count": 58,
     "metadata": {},
     "output_type": "execute_result"
    }
   ],
   "source": [
    "a=[5,8,6,5]\n",
    "b=[4,8,6,3]\n",
    "\n",
    "a+b"
   ]
  },
  {
   "cell_type": "code",
   "execution_count": 59,
   "id": "bd3c1ba2-37a1-4153-bc43-394d565c333d",
   "metadata": {},
   "outputs": [
    {
     "data": {
      "text/plain": [
       "6"
      ]
     },
     "execution_count": 59,
     "metadata": {},
     "output_type": "execute_result"
    }
   ],
   "source": [
    "a = 'prachi'\n",
    "len(a)"
   ]
  },
  {
   "cell_type": "code",
   "execution_count": 61,
   "id": "7bbea320-a37d-4476-b6ef-329caaf82dce",
   "metadata": {},
   "outputs": [
    {
     "data": {
      "text/plain": [
       "2"
      ]
     },
     "execution_count": 61,
     "metadata": {},
     "output_type": "execute_result"
    }
   ],
   "source": [
    "a= ['harry','jatin']\n",
    "len(a)"
   ]
  },
  {
   "cell_type": "code",
   "execution_count": 66,
   "id": "0062496a-b8f5-4327-8dfd-0a8631ca9e69",
   "metadata": {},
   "outputs": [
    {
     "data": {
      "text/plain": [
       "3"
      ]
     },
     "execution_count": 66,
     "metadata": {},
     "output_type": "execute_result"
    }
   ],
   "source": [
    "def ste(a):\n",
    "    return str(a)\n",
    "\n",
    "a = ste(567)\n",
    "len(a)"
   ]
  },
  {
   "cell_type": "code",
   "execution_count": 70,
   "id": "4b58c995-34c7-454d-beb1-068d82444480",
   "metadata": {},
   "outputs": [
    {
     "name": "stdout",
     "output_type": "stream",
     "text": [
      "45 <class 'str'>\n"
     ]
    }
   ],
   "source": [
    "#overriding\n",
    "\n",
    "a = 45\n",
    "\n",
    "a = '45'\n",
    "\n",
    "print(a,type(a))"
   ]
  },
  {
   "cell_type": "code",
   "execution_count": 71,
   "id": "3b98f549-f75a-4567-bd24-7d5733f7daeb",
   "metadata": {},
   "outputs": [
    {
     "name": "stdout",
     "output_type": "stream",
     "text": [
      "None <class 'NoneType'>\n"
     ]
    }
   ],
   "source": [
    "a = None\n",
    "print(a,type(a))"
   ]
  },
  {
   "cell_type": "code",
   "execution_count": 78,
   "id": "7c49e4da-45d3-4cf0-afb5-5d2f044ec157",
   "metadata": {},
   "outputs": [
    {
     "name": "stdout",
     "output_type": "stream",
     "text": [
      "f1 car speed:  max speed 200 km/h\n",
      "f1 car speed:  maax speed 250 km/hr\n",
      "f1 car speed:  max speed 300 km/hr\n"
     ]
    }
   ],
   "source": [
    "class Car:\n",
    "    def speed(self):\n",
    "        return('max speed 200 km/h')\n",
    "\n",
    "    def auto_pilot(self):\n",
    "        return('it supports auto pilot mode')\n",
    "\n",
    "    def info(self):\n",
    "        return('this is just a car object')\n",
    "\n",
    "class BMW(Car):\n",
    "    def speed(self):\n",
    "        return('maax speed 250 km/hr')\n",
    "\n",
    "    def info(self):\n",
    "       return('a bmw car object')\n",
    "        \n",
    "class Audi(Car):\n",
    "    def speed(self):\n",
    "        return('max speed 300 km/hr')\n",
    "\n",
    "    def info(self):\n",
    "        return('audi car ')\n",
    "\n",
    "for i in [Car,BMW,Audi]:\n",
    "    f1 = i()\n",
    "    print('f1 car speed: ', f1.speed())"
   ]
  },
  {
   "cell_type": "code",
   "execution_count": 79,
   "id": "fa81104c-b12a-4838-83f1-d66d61ed7b8c",
   "metadata": {},
   "outputs": [
    {
     "name": "stdout",
     "output_type": "stream",
     "text": [
      "max speed 200 km/h\n"
     ]
    }
   ],
   "source": [
    "f1 = Car()\n",
    "print(f1.speed())"
   ]
  },
  {
   "cell_type": "code",
   "execution_count": 80,
   "id": "8de61eb2-177d-4dde-b7e1-b0c672d9d70a",
   "metadata": {},
   "outputs": [
    {
     "name": "stdout",
     "output_type": "stream",
     "text": [
      "maax speed 250 km/hr\n"
     ]
    }
   ],
   "source": [
    "f1 = BMW()\n",
    "print(f1.speed())"
   ]
  },
  {
   "cell_type": "code",
   "execution_count": 81,
   "id": "bd48b769-bc7c-4c05-b476-2949b976a334",
   "metadata": {},
   "outputs": [
    {
     "name": "stdout",
     "output_type": "stream",
     "text": [
      "max speed 300 km/hr\n"
     ]
    }
   ],
   "source": [
    "f1 = Audi()\n",
    "print(f1.speed())"
   ]
  },
  {
   "cell_type": "code",
   "execution_count": null,
   "id": "c7c5953b-fcaa-4319-9322-3445d3c1fa17",
   "metadata": {},
   "outputs": [],
   "source": [
    "#method overloading cannot be achieved in python by basic logic"
   ]
  },
  {
   "cell_type": "code",
   "execution_count": 82,
   "id": "06c310de-8184-48f7-8362-37aa630ac06f",
   "metadata": {},
   "outputs": [
    {
     "name": "stdout",
     "output_type": "stream",
     "text": [
      "hello prachi , how are you??\n",
      "your address is delhi\n"
     ]
    }
   ],
   "source": [
    "class IITM:\n",
    "   \n",
    "    def intro(self):\n",
    "        print('hello candidates!!')\n",
    "\n",
    "    def intro(self,name):\n",
    "        print(f'hello {name} , how are you??')\n",
    "\n",
    "    def intro(self,name,address):\n",
    "        print(f'hello {name} , how are you??')\n",
    "        print(f'your address is {address}')\n",
    "\n",
    "a = IITM()\n",
    "\n",
    "a.intro('prachi', 'delhi')"
   ]
  },
  {
   "cell_type": "code",
   "execution_count": 90,
   "id": "44025bb2-f9c2-433b-ade0-d11e1787f46a",
   "metadata": {},
   "outputs": [],
   "source": [
    "#to achieve method overloading in python\n",
    "\n",
    "class IITM:\n",
    "\n",
    "    def intro(self,name = None, address = None):\n",
    "        if (name == None) and (address == None):\n",
    "            print('hello candidate!!')\n",
    "\n",
    "        elif ((name != None) and (address == None)):\n",
    "            print(f'hello {name} , how are you??')\n",
    "\n",
    "        elif ((name != None) and (address != None)):\n",
    "            print(f'hello {name}, how are you??')\n",
    "            print(f'your address is {address}')\n",
    "\n",
    "        else:\n",
    "            print('hello buddy!')"
   ]
  },
  {
   "cell_type": "code",
   "execution_count": 91,
   "id": "fca17325-ac00-4765-bc1f-f70001e0ef3e",
   "metadata": {},
   "outputs": [],
   "source": [
    "a = IITM()"
   ]
  },
  {
   "cell_type": "code",
   "execution_count": 92,
   "id": "86195953-d3f9-425c-a80b-46a502a25062",
   "metadata": {},
   "outputs": [
    {
     "name": "stdout",
     "output_type": "stream",
     "text": [
      "hello candidate!!\n"
     ]
    }
   ],
   "source": [
    "a.intro()"
   ]
  },
  {
   "cell_type": "code",
   "execution_count": 93,
   "id": "f1d4f33e-d7d3-4671-99f8-0d1c767b849b",
   "metadata": {},
   "outputs": [
    {
     "name": "stdout",
     "output_type": "stream",
     "text": [
      "hello prachi , how are you??\n"
     ]
    }
   ],
   "source": [
    "a.intro('prachi')"
   ]
  },
  {
   "cell_type": "code",
   "execution_count": 94,
   "id": "5a8641df-dd27-49eb-8ca0-de8d9b1b0945",
   "metadata": {},
   "outputs": [
    {
     "name": "stdout",
     "output_type": "stream",
     "text": [
      "hello prachi, how are you??\n",
      "your address is delhi\n"
     ]
    }
   ],
   "source": [
    "a.intro('prachi','delhi')"
   ]
  },
  {
   "cell_type": "code",
   "execution_count": 95,
   "id": "9ff6c8a5-ad44-42c7-8267-2e6689377ea2",
   "metadata": {},
   "outputs": [
    {
     "name": "stdout",
     "output_type": "stream",
     "text": [
      "hello buddy!\n"
     ]
    }
   ],
   "source": [
    "a.intro(address = 'delhi')"
   ]
  },
  {
   "cell_type": "markdown",
   "id": "c62746af-d32c-41a0-bfa8-8fd6fa2cded0",
   "metadata": {},
   "source": [
    "# Abstraction"
   ]
  },
  {
   "cell_type": "code",
   "execution_count": 97,
   "id": "260b45ee-dc00-4a7c-9985-443cd831cba7",
   "metadata": {},
   "outputs": [],
   "source": [
    "# it is just a concept , just an idea(blueprint), it's methods should be implemented \n",
    "# it is not a physcal object\n",
    "#\n",
    "\n",
    "\n",
    "    "
   ]
  },
  {
   "cell_type": "code",
   "execution_count": 101,
   "id": "773faa7f-95d6-488a-9d2f-acfcbab7a172",
   "metadata": {},
   "outputs": [
    {
     "ename": "TypeError",
     "evalue": "Can't instantiate abstract class Website without an implementation for abstract method 'login'",
     "output_type": "error",
     "traceback": [
      "\u001b[1;31m---------------------------------------------------------------------------\u001b[0m",
      "\u001b[1;31mTypeError\u001b[0m                                 Traceback (most recent call last)",
      "Cell \u001b[1;32mIn[101], line 12\u001b[0m\n\u001b[0;32m      9\u001b[0m     \u001b[38;5;28;01mdef\u001b[39;00m\u001b[38;5;250m \u001b[39m\u001b[38;5;21mlogout\u001b[39m(\u001b[38;5;28mself\u001b[39m):\n\u001b[0;32m     10\u001b[0m         \u001b[38;5;28mprint\u001b[39m(\u001b[38;5;124m'\u001b[39m\u001b[38;5;124ma logout page\u001b[39m\u001b[38;5;124m'\u001b[39m)\n\u001b[1;32m---> 12\u001b[0m asus \u001b[38;5;241m=\u001b[39m Website()\n\u001b[0;32m     13\u001b[0m \u001b[38;5;28mprint\u001b[39m(\u001b[38;5;124m'\u001b[39m\u001b[38;5;124mdone\u001b[39m\u001b[38;5;124m'\u001b[39m)\n",
      "\u001b[1;31mTypeError\u001b[0m: Can't instantiate abstract class Website without an implementation for abstract method 'login'"
     ]
    }
   ],
   "source": [
    "from abc import ABC , abstractmethod\n",
    "\n",
    "class Website(ABC):\n",
    "\n",
    "    @abstractmethod\n",
    "    def login(self):\n",
    "        print('this is login method')\n",
    "\n",
    "    def logout(self):\n",
    "        print('a logout page')\n",
    "\n",
    "asus = Website()\n",
    "print('done')"
   ]
  },
  {
   "cell_type": "code",
   "execution_count": 104,
   "id": "aa39d72e-7ea2-47b2-a474-af2040746689",
   "metadata": {},
   "outputs": [],
   "source": [
    "class Nakul(Website):\n",
    "\n",
    "    def signup(self):\n",
    "        print('user can signup!!')\n",
    "\n",
    "    def login(self):\n",
    "        print('this is a login form')\n",
    "\n",
    "    def logout(self):\n",
    "        print('user can logout')\n",
    "\n",
    "google = Nakul()"
   ]
  },
  {
   "cell_type": "code",
   "execution_count": 105,
   "id": "cff4e822-e688-4291-80f4-b94b49f0e031",
   "metadata": {},
   "outputs": [
    {
     "name": "stdout",
     "output_type": "stream",
     "text": [
      "this is a login form\n"
     ]
    }
   ],
   "source": [
    "google.login()\n"
   ]
  },
  {
   "cell_type": "code",
   "execution_count": 106,
   "id": "3dec3fcf-98ed-412c-9d48-92be6ef77b07",
   "metadata": {},
   "outputs": [
    {
     "name": "stdout",
     "output_type": "stream",
     "text": [
      "user can logout\n"
     ]
    }
   ],
   "source": [
    "google.logout()"
   ]
  },
  {
   "cell_type": "code",
   "execution_count": 107,
   "id": "2e2e7156-8a64-44f3-9593-ed905df0c968",
   "metadata": {},
   "outputs": [
    {
     "name": "stdout",
     "output_type": "stream",
     "text": [
      "user can signup!!\n"
     ]
    }
   ],
   "source": [
    "google.signup()"
   ]
  },
  {
   "cell_type": "code",
   "execution_count": null,
   "id": "62bfccc3-1da5-4441-9c7e-1f6beeaf7718",
   "metadata": {},
   "outputs": [],
   "source": []
  }
 ],
 "metadata": {
  "kernelspec": {
   "display_name": "Python 3 (ipykernel)",
   "language": "python",
   "name": "python3"
  },
  "language_info": {
   "codemirror_mode": {
    "name": "ipython",
    "version": 3
   },
   "file_extension": ".py",
   "mimetype": "text/x-python",
   "name": "python",
   "nbconvert_exporter": "python",
   "pygments_lexer": "ipython3",
   "version": "3.13.5"
  }
 },
 "nbformat": 4,
 "nbformat_minor": 5
}

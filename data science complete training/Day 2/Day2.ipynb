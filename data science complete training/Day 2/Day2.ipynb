{
 "cells": [
  {
   "cell_type": "code",
   "execution_count": 3,
   "id": "ce52a9ce-47bb-4743-adef-1d8057467619",
   "metadata": {},
   "outputs": [
    {
     "name": "stdout",
     "output_type": "stream",
     "text": [
      "Something went wrong\n",
      "Invalid datatype comparison\n"
     ]
    }
   ],
   "source": [
    "# exception handling\n",
    "\n",
    "age='23'\n",
    "\n",
    "try:\n",
    "    if age >= 18:\n",
    "        print('can vote')\n",
    "    else:\n",
    "        print('can\\'t vote')\n",
    "except TypeError:\n",
    "    print('Something went wrong')\n",
    "    print('Invalid datatype comparison')\n",
    "\n",
    "except:\n",
    "    print('Invalid code!!')"
   ]
  },
  {
   "cell_type": "code",
   "execution_count": 21,
   "id": "11024cd8-e593-472b-b54a-b9f89a8259a0",
   "metadata": {},
   "outputs": [],
   "source": [
    "def show_time():\n",
    "    try:\n",
    "        while True:\n",
    "            import time \n",
    "            print(time.asctime())\n",
    "            time.sleep(1)\n",
    "            display(clear = True)\n",
    "    except:\n",
    "        print('Timer has been stopped!!')"
   ]
  },
  {
   "cell_type": "code",
   "execution_count": 22,
   "id": "ddb1f6db-b9a1-43da-bef5-a2e05ddebb1a",
   "metadata": {},
   "outputs": [
    {
     "name": "stdout",
     "output_type": "stream",
     "text": [
      "Fri Jul  4 10:39:37 2025\n",
      "Timer has been stopped!!\n"
     ]
    }
   ],
   "source": [
    "show_time()"
   ]
  },
  {
   "cell_type": "code",
   "execution_count": null,
   "id": "a6c52230-2717-4ef5-a987-8e9eebf4c018",
   "metadata": {},
   "outputs": [],
   "source": []
  },
  {
   "cell_type": "code",
   "execution_count": null,
   "id": "d9fd572d-5566-49ad-9d13-7164f12a494b",
   "metadata": {},
   "outputs": [],
   "source": []
  },
  {
   "cell_type": "code",
   "execution_count": 7,
   "id": "00b261bd-1467-4ac4-8f5c-81a494156269",
   "metadata": {},
   "outputs": [
    {
     "name": "stdout",
     "output_type": "stream",
     "text": [
      "Done\n"
     ]
    }
   ],
   "source": [
    "import Prachi as p\n",
    "print('Done')"
   ]
  },
  {
   "cell_type": "code",
   "execution_count": 12,
   "id": "92470bc4-ec51-4c0f-bbb2-8018ff37d477",
   "metadata": {},
   "outputs": [
    {
     "name": "stdout",
     "output_type": "stream",
     "text": [
      "      * \n",
      "     * * \n",
      "    * * * \n",
      "   * * * * \n",
      "  * * * * * \n",
      " * * * * * * \n",
      "* * * * * * * \n"
     ]
    }
   ],
   "source": [
    "import Prachi as p #press tab\n",
    "p.print_star(n = 7,typ = 'mid',)#shift and tab to get information"
   ]
  },
  {
   "cell_type": "code",
   "execution_count": 4,
   "id": "3de3979d-8270-4e2b-a37f-96fb6330247b",
   "metadata": {},
   "outputs": [
    {
     "name": "stdout",
     "output_type": "stream",
     "text": [
      "This is Prachi Module in Python\n",
      "Info: https://www.google.com/\n",
      "    * \n",
      "   * * \n",
      "  * * * \n",
      " * * * * \n",
      "* * * * * \n"
     ]
    }
   ],
   "source": [
    "import Prachi as p\n",
    "p.print_star()"
   ]
  },
  {
   "cell_type": "code",
   "execution_count": 14,
   "id": "75b7e592-5dd3-4547-bb01-66ceb59aab2c",
   "metadata": {},
   "outputs": [
    {
     "data": {
      "text/plain": [
       "44"
      ]
     },
     "execution_count": 14,
     "metadata": {},
     "output_type": "execute_result"
    }
   ],
   "source": [
    "p.minn(44,55,65,48)"
   ]
  },
  {
   "cell_type": "code",
   "execution_count": 15,
   "id": "eeae6b8f-3a1e-441d-bf64-3d10b95addd3",
   "metadata": {},
   "outputs": [
    {
     "data": {
      "text/plain": [
       "100"
      ]
     },
     "execution_count": 15,
     "metadata": {},
     "output_type": "execute_result"
    }
   ],
   "source": [
    "p.max(98,55,68,74,12,100,3,1,5,)"
   ]
  },
  {
   "cell_type": "code",
   "execution_count": 16,
   "id": "c1b71522-2364-4148-927c-3e414e722b61",
   "metadata": {},
   "outputs": [
    {
     "data": {
      "text/plain": [
       "'prime number'"
      ]
     },
     "execution_count": 16,
     "metadata": {},
     "output_type": "execute_result"
    }
   ],
   "source": [
    "p.check_prime(89)"
   ]
  },
  {
   "cell_type": "code",
   "execution_count": 17,
   "id": "55cbcc48-8f4a-4157-adbf-64e8a22e12a3",
   "metadata": {},
   "outputs": [
    {
     "data": {
      "text/plain": [
       "'not a palindrome'"
      ]
     },
     "execution_count": 17,
     "metadata": {},
     "output_type": "execute_result"
    }
   ],
   "source": [
    "p.check_palindrome('prachi')"
   ]
  },
  {
   "cell_type": "code",
   "execution_count": 18,
   "id": "bbd29d8c-2d91-4d8d-af75-eb627be6af51",
   "metadata": {},
   "outputs": [
    {
     "data": {
      "text/plain": [
       "[0, 1, 1, 2, 3, 5, 8, 13]"
      ]
     },
     "execution_count": 18,
     "metadata": {},
     "output_type": "execute_result"
    }
   ],
   "source": [
    "p.give_fibo(8)"
   ]
  },
  {
   "cell_type": "code",
   "execution_count": 19,
   "id": "9d48070c-0dec-46da-a6e7-986057a58a0e",
   "metadata": {},
   "outputs": [
    {
     "data": {
      "text/plain": [
       "105"
      ]
     },
     "execution_count": 19,
     "metadata": {},
     "output_type": "execute_result"
    }
   ],
   "source": [
    "p.sum_of_natural_numbers(14)"
   ]
  },
  {
   "cell_type": "code",
   "execution_count": 1,
   "id": "1613d458-d910-4e28-b491-944cea57fe24",
   "metadata": {},
   "outputs": [
    {
     "name": "stdout",
     "output_type": "stream",
     "text": [
      "Defaulting to user installation because normal site-packages is not writeableNote: you may need to restart the kernel to use updated packages.\n",
      "\n",
      "Requirement already satisfied: gTTS in c:\\users\\personal\\appdata\\roaming\\python\\python313\\site-packages (2.5.4)\n",
      "Requirement already satisfied: requests<3,>=2.27 in c:\\programdata\\anaconda3\\lib\\site-packages (from gTTS) (2.32.3)\n",
      "Requirement already satisfied: click<8.2,>=7.1 in c:\\programdata\\anaconda3\\lib\\site-packages (from gTTS) (8.1.8)\n",
      "Requirement already satisfied: colorama in c:\\programdata\\anaconda3\\lib\\site-packages (from click<8.2,>=7.1->gTTS) (0.4.6)\n",
      "Requirement already satisfied: charset-normalizer<4,>=2 in c:\\programdata\\anaconda3\\lib\\site-packages (from requests<3,>=2.27->gTTS) (3.3.2)\n",
      "Requirement already satisfied: idna<4,>=2.5 in c:\\programdata\\anaconda3\\lib\\site-packages (from requests<3,>=2.27->gTTS) (3.7)\n",
      "Requirement already satisfied: urllib3<3,>=1.21.1 in c:\\programdata\\anaconda3\\lib\\site-packages (from requests<3,>=2.27->gTTS) (2.3.0)\n",
      "Requirement already satisfied: certifi>=2017.4.17 in c:\\programdata\\anaconda3\\lib\\site-packages (from requests<3,>=2.27->gTTS) (2025.4.26)\n"
     ]
    }
   ],
   "source": [
    "pip install gTTS"
   ]
  },
  {
   "cell_type": "code",
   "execution_count": 3,
   "id": "1b5ca28f-9b65-4cab-9097-ec6e7f562006",
   "metadata": {},
   "outputs": [],
   "source": [
    "from gtts import gTTS"
   ]
  },
  {
   "cell_type": "code",
   "execution_count": 29,
   "id": "1f317fa1-a455-4772-8e9c-f86e96d81f7e",
   "metadata": {},
   "outputs": [
    {
     "name": "stdout",
     "output_type": "stream",
     "text": [
      "Defaulting to user installation because normal site-packages is not writeableNote: you may need to restart the kernel to use updated packages.\n",
      "\n",
      "Collecting pygame\n",
      "  Downloading pygame-2.6.1-cp313-cp313-win_amd64.whl.metadata (13 kB)\n",
      "Downloading pygame-2.6.1-cp313-cp313-win_amd64.whl (10.6 MB)\n",
      "   ---------------------------------------- 0.0/10.6 MB ? eta -:--:--\n",
      "    --------------------------------------- 0.3/10.6 MB ? eta -:--:--\n",
      "   - -------------------------------------- 0.5/10.6 MB 1.9 MB/s eta 0:00:06\n",
      "   --- ------------------------------------ 1.0/10.6 MB 1.9 MB/s eta 0:00:05\n",
      "   ----- ---------------------------------- 1.6/10.6 MB 2.1 MB/s eta 0:00:05\n",
      "   ------- -------------------------------- 2.1/10.6 MB 2.2 MB/s eta 0:00:04\n",
      "   -------- ------------------------------- 2.4/10.6 MB 2.2 MB/s eta 0:00:04\n",
      "   ---------- ----------------------------- 2.9/10.6 MB 2.1 MB/s eta 0:00:04\n",
      "   ------------ --------------------------- 3.4/10.6 MB 2.2 MB/s eta 0:00:04\n",
      "   ------------- -------------------------- 3.7/10.6 MB 2.1 MB/s eta 0:00:04\n",
      "   --------------- ------------------------ 4.2/10.6 MB 2.1 MB/s eta 0:00:03\n",
      "   ----------------- ---------------------- 4.7/10.6 MB 2.2 MB/s eta 0:00:03\n",
      "   -------------------- ------------------- 5.5/10.6 MB 2.2 MB/s eta 0:00:03\n",
      "   --------------------- ------------------ 5.8/10.6 MB 2.2 MB/s eta 0:00:03\n",
      "   ---------------------- ----------------- 6.0/10.6 MB 2.2 MB/s eta 0:00:03\n",
      "   ------------------------ --------------- 6.6/10.6 MB 2.1 MB/s eta 0:00:02\n",
      "   -------------------------- ------------- 7.1/10.6 MB 2.1 MB/s eta 0:00:02\n",
      "   --------------------------- ------------ 7.3/10.6 MB 2.1 MB/s eta 0:00:02\n",
      "   ----------------------------- ---------- 7.9/10.6 MB 2.1 MB/s eta 0:00:02\n",
      "   ------------------------------- -------- 8.4/10.6 MB 2.1 MB/s eta 0:00:02\n",
      "   --------------------------------- ------ 8.9/10.6 MB 2.2 MB/s eta 0:00:01\n",
      "   ---------------------------------- ----- 9.2/10.6 MB 2.1 MB/s eta 0:00:01\n",
      "   ------------------------------------ --- 9.7/10.6 MB 2.1 MB/s eta 0:00:01\n",
      "   ------------------------------------- -- 10.0/10.6 MB 2.1 MB/s eta 0:00:01\n",
      "   ---------------------------------------  10.5/10.6 MB 2.1 MB/s eta 0:00:01\n",
      "   ---------------------------------------- 10.6/10.6 MB 2.0 MB/s eta 0:00:00\n",
      "Installing collected packages: pygame\n",
      "Successfully installed pygame-2.6.1\n"
     ]
    }
   ],
   "source": [
    "pip install pygame"
   ]
  },
  {
   "cell_type": "code",
   "execution_count": 6,
   "id": "155cab1d-4b03-486a-a8c1-9402d7c40203",
   "metadata": {},
   "outputs": [],
   "source": [
    "p.sound_box(45)"
   ]
  },
  {
   "cell_type": "code",
   "execution_count": 7,
   "id": "bfd4c9d7-8911-4a10-820c-3c24d285a63a",
   "metadata": {},
   "outputs": [
    {
     "name": "stdout",
     "output_type": "stream",
     "text": [
      "done\n"
     ]
    }
   ],
   "source": [
    "from Prachi import minn\n",
    "print('done')"
   ]
  },
  {
   "cell_type": "code",
   "execution_count": 8,
   "id": "e5972a26-bcfd-4647-bd6a-51e3ade95764",
   "metadata": {},
   "outputs": [
    {
     "data": {
      "text/plain": [
       "4"
      ]
     },
     "execution_count": 8,
     "metadata": {},
     "output_type": "execute_result"
    }
   ],
   "source": [
    "minn(65,8,7,4,9,55,545,)"
   ]
  },
  {
   "cell_type": "code",
   "execution_count": 10,
   "id": "a747a57b-f7cb-47f9-b390-56a3b670807e",
   "metadata": {},
   "outputs": [
    {
     "name": "stdout",
     "output_type": "stream",
     "text": [
      "done\n"
     ]
    }
   ],
   "source": [
    "from Prachi import *\n",
    "print('done')"
   ]
  },
  {
   "cell_type": "code",
   "execution_count": 11,
   "id": "ec8f0458-c658-40a7-8ba3-6d6bc187f90a",
   "metadata": {},
   "outputs": [
    {
     "data": {
      "text/plain": [
       "95"
      ]
     },
     "execution_count": 11,
     "metadata": {},
     "output_type": "execute_result"
    }
   ],
   "source": [
    "max(54,95,68,2,3)"
   ]
  },
  {
   "cell_type": "code",
   "execution_count": 13,
   "id": "6b081268-58bb-4704-a4b3-45e8b7ad741b",
   "metadata": {},
   "outputs": [
    {
     "data": {
      "text/plain": [
       "1540"
      ]
     },
     "execution_count": 13,
     "metadata": {},
     "output_type": "execute_result"
    }
   ],
   "source": [
    "sum_of_natural_numbers(55)"
   ]
  },
  {
   "cell_type": "code",
   "execution_count": 14,
   "id": "ec049bb4-c701-48ec-87a4-708e174f1144",
   "metadata": {},
   "outputs": [
    {
     "name": "stdout",
     "output_type": "stream",
     "text": [
      "done\n"
     ]
    }
   ],
   "source": [
    "import turtle\n",
    "print('done')"
   ]
  },
  {
   "cell_type": "code",
   "execution_count": 1,
   "id": "fa78a283-56c0-4444-8a09-da8dcac7f4ca",
   "metadata": {},
   "outputs": [],
   "source": [
    "import turtle\n",
    "for i in range (4):\n",
    "    turtle.speed(0)\n",
    "    turtle.bgcolor('black')\n",
    "    col = ['red','orange','blue','yellow','green']\n",
    "    import random\n",
    "    picked_color = random.choice(col)\n",
    "    turtle.color()\n",
    "    turtle.circle(100)\n",
    "    turtle.left(3)"
   ]
  },
  {
   "cell_type": "code",
   "execution_count": 2,
   "id": "89690e2b-f32d-456c-a248-14d60b3db52c",
   "metadata": {},
   "outputs": [],
   "source": [
    "import turtle\n",
    "for i in range(6):\n",
    "    turtle.bgcolor('black')\n",
    "    turtle.color('cyan')\n",
    "    turtle.forward(100)\n",
    "    turtle.left(60)\n",
    "    "
   ]
  },
  {
   "cell_type": "code",
   "execution_count": 4,
   "id": "925447a4-dc34-48e4-b6c7-6a382aa68d2f",
   "metadata": {},
   "outputs": [],
   "source": [
    "#file handling\n",
    "#types of files"
   ]
  },
  {
   "cell_type": "code",
   "execution_count": 5,
   "id": "e11956e0-29f2-4771-a582-b869d09809d0",
   "metadata": {},
   "outputs": [],
   "source": [
    "# 1:- text file -- open the file in notepad to make it readable\n",
    "#.py, .html, .csv, .tsv, .css, .java, .c, .c++, .json, .js\n",
    "# 2:- binary file -- it needs software to run the file\n",
    "#.pdf, .mp3, .mp4, .png, .jpeg, .exe, .zip, .dat, .tar, .xlsx, .ppt, .doc, .ipynb \n"
   ]
  },
  {
   "cell_type": "code",
   "execution_count": 6,
   "id": "c63803a9-5521-4dfa-864e-413a0d768295",
   "metadata": {},
   "outputs": [],
   "source": [
    "# handling:- read , write , copy, append , delete , open , new , close"
   ]
  },
  {
   "cell_type": "code",
   "execution_count": 7,
   "id": "0140b25c-b4d1-49bf-84d3-70404d5c95a9",
   "metadata": {},
   "outputs": [],
   "source": [
    "#context manager "
   ]
  },
  {
   "cell_type": "code",
   "execution_count": 10,
   "id": "39bef2ed-db5e-4839-9931-ce830866205f",
   "metadata": {},
   "outputs": [
    {
     "name": "stdout",
     "output_type": "stream",
     "text": [
      "print('''This is Prachi Module in Python\n",
      "Info: https://www.google.com/\n"
     ]
    }
   ],
   "source": [
    "file = open('Prachi.py',mode = 'r')\n",
    "print(file.read(70))# if no value is mentioned then it will return all data\n",
    "file.close()"
   ]
  },
  {
   "cell_type": "code",
   "execution_count": 11,
   "id": "443f1b45-0d9c-4c88-a637-d95b04b90b34",
   "metadata": {},
   "outputs": [],
   "source": [
    "f = open('Prachi.py',mode = 'r')"
   ]
  },
  {
   "cell_type": "code",
   "execution_count": 15,
   "id": "94e25a72-da38-493c-96b2-0ed94cb5543f",
   "metadata": {},
   "outputs": [
    {
     "name": "stdout",
     "output_type": "stream",
     "text": [
      "\n",
      "\n"
     ]
    }
   ],
   "source": [
    "print(f.readline())#it will read lines one by one\n"
   ]
  },
  {
   "cell_type": "code",
   "execution_count": 16,
   "id": "e1764e37-408b-4168-847f-512ed0d2bd10",
   "metadata": {},
   "outputs": [],
   "source": [
    "f.close()"
   ]
  },
  {
   "cell_type": "code",
   "execution_count": 18,
   "id": "a509d973-4318-43c4-9707-e16bf0c3af55",
   "metadata": {},
   "outputs": [
    {
     "name": "stdout",
     "output_type": "stream",
     "text": [
      "print('''This is Prachi Module in Python\n",
      "\n",
      "Info: https://www.google.com/''')\n",
      "\n",
      "\n",
      "\n",
      "\n",
      "\n",
      "def check_palindrome(word:str):\n",
      "\n",
      "  if type(word) == str:\n",
      "\n",
      "    word = word.upper()\n",
      "\n",
      "    if word == word[::-1]:\n",
      "\n",
      "        return 'palindrome'\n",
      "\n",
      "    else:\n",
      "\n"
     ]
    }
   ],
   "source": [
    "f = open('Prachi.py',mode = 'r')\n",
    "for i in range(10):\n",
    "    print(f.readline())"
   ]
  },
  {
   "cell_type": "code",
   "execution_count": 20,
   "id": "040cf0a1-3735-41d6-9ac3-2fcc6a229698",
   "metadata": {},
   "outputs": [
    {
     "name": "stdout",
     "output_type": "stream",
     "text": [
      "def check_palindrome(word:str):\n",
      "\n"
     ]
    }
   ],
   "source": [
    "f = open('Prachi.py',mode = 'r')\n",
    "for i in range(10):\n",
    "    if i == 4: #line number 5\n",
    "        print(f.readline())\n",
    "    else:\n",
    "        f.readline()"
   ]
  },
  {
   "cell_type": "code",
   "execution_count": 21,
   "id": "9b04478a-0850-477e-b18c-96576155123d",
   "metadata": {},
   "outputs": [
    {
     "name": "stdout",
     "output_type": "stream",
     "text": [
      "done\n"
     ]
    }
   ],
   "source": [
    "f = open('Prachi.py',mode = 'r')\n",
    "\n",
    "data = f.readlines() # output will be in list format\n",
    "\n",
    "f.close()\n",
    "print('done')"
   ]
  },
  {
   "cell_type": "code",
   "execution_count": 23,
   "id": "cae8f761-a84c-4687-8b7b-b9e28d650226",
   "metadata": {},
   "outputs": [
    {
     "name": "stdout",
     "output_type": "stream",
     "text": [
      "[\"print('''This is Prachi Module in Python\\n\", \"Info: https://www.google.com/''')\\n\", '\\n', '\\n', 'def check_palindrome(word:str):\\n', '  if type(word) == str:\\n', '    word = word.upper()\\n', '    if word == word[::-1]:\\n', \"        return 'palindrome'\\n\", '    else:\\n', \"        return'not a palindrome'\\n\", '  else:\\n', \"    return 'Invalid Data Type'\\n\", '\\n', '\\n', 'def give_fibo(n):\\n', '    fibo = [0,1]\\n', '    for i in range(n-2):\\n', '        last_num = fibo[-1]\\n', '        second_last_num = fibo[-2]\\n', '        next_num = last_num + second_last_num\\n', '        fibo.append(next_num)\\n', '    return fibo\\n', '\\n', '\\n', 'def check_prime(number):\\n', '    for i in range(2, number):\\n', '        if number % i == 0:\\n', \"            return 'Not A Prime Number'\\n\", '            break\\n', '    else:\\n', \"        return 'prime number'\\n\", '\\n', '\\n', '        \\n', \"def print_star(n = 5, typ = 'left'):\\n\", \"    if typ == 'left':\\n\", \"        space = ''\\n\", \"    elif typ == 'right':\\n\", \"        space = '  '\\n\", \"    elif typ == 'centre':\\n\", \"        space = ' '\\n\", '    for i in range(1, n+1):\\n', \"         print(' '*(n-i) + i * '* ')\\n\", '\\n', '\\n', 'def sum_of_natural_numbers(n):\\n', '    result = 0 \\n', '    for i in range(1,n+1):\\n', '        result += i\\n', '    return result\\n', '\\n', '\\n', '\\n', 'def factorial(n):\\n', '  result = 1\\n', '  for i in range(1,n+1):\\n', '        result *= i\\n', '  return result\\n', '    \\n', '\\n', '\\n', 'def total_sales(*args):\\n', '    #unpacking\\n', '    result = 0\\n', '    for i in args:\\n', '        result += i\\n', '    return result\\n', '\\n', '    \\n', '\\n', 'def max(*data):\\n', '    max_ele = data[0]\\n', '    for i in data[1:]:\\n', '        if i > max_ele:\\n', '            max_ele = i\\n', '    return max_ele\\n', '\\n', '\\n', 'def minn(*data):\\n', '    minn_ele = data[0]\\n', '    for i in data[1:]:\\n', '        if i < minn_ele:\\n', '            minn_ele = i\\n', '    return minn_ele\\n', '\\n', '\\n', '\\n', 'def student_records(**kwargs):# (*)convert multiple value into tuple , (**) convert into dictionary \\n', '    \\n', '    import pandas as pd\\n', '    try:\\n', '        data = pd.DataFrame(kwargs)\\n', '        return data\\n', '    except:\\n', '        #try\\n', '            #pass\\n', '        #except\\n', '            #pass\\n', '        data = pd.DataFrame(kwargs, index=[1])\\n', '        return data\\n', '\\n', '\\n', 'def show_time():\\n', '    try:\\n', '        while True:\\n', '            import time \\n', '            print(time.asctime())\\n', '            time.sleep(1)\\n', '            display(clear = True)\\n', '    except:\\n', \"        print('Timer has been stopped!!')\\n\", '\\n', '\\n', \"def sound_box(paisa,platform = 'Paytm'):\\n\", '    from gtts import gTTS\\n', \"    text  = f'''{platform} par {paisa} rs Prapt hue.'''\\n\", '    audio = gTTS(text)\\n', \"    audio.save('paytm.mp3')\\n\", '\\n', '    import pygame as p\\n', '    p.init()\\n', '\\n', \"    music = p.mixer.Sound('paytm.mp3')\\n\", '    music.play()\\n', '\\n', '\\n', '\\n', '\\n', '        \\n', '\\n', '\\n', '\\n', '\\n', '\\n', '\\n', '\\n', '\\n', '\\n', '\\n', '\\n', '\\n', '\\n', '    \\n', '\\n', '\\n', '\\n', '\\n', '    \\n', '\\n', '\\n']\n"
     ]
    }
   ],
   "source": [
    "print(data)"
   ]
  },
  {
   "cell_type": "code",
   "execution_count": 24,
   "id": "9d6c734f-373b-47fd-99f0-4799b0525c17",
   "metadata": {},
   "outputs": [
    {
     "name": "stdout",
     "output_type": "stream",
     "text": [
      "    else:\n",
      "\n"
     ]
    }
   ],
   "source": [
    "print(data[30])"
   ]
  },
  {
   "cell_type": "code",
   "execution_count": 25,
   "id": "dfb5fa24-f2af-47ef-a667-a396880fb7f6",
   "metadata": {},
   "outputs": [
    {
     "name": "stdout",
     "output_type": "stream",
     "text": [
      "[\"Info: https://www.google.com/''')\\n\", '\\n', '\\n', 'def check_palindrome(word:str):\\n', '  if type(word) == str:\\n', '    word = word.upper()\\n']\n"
     ]
    }
   ],
   "source": [
    "print(data[1:7])"
   ]
  },
  {
   "cell_type": "code",
   "execution_count": 27,
   "id": "981307d2-f229-4b0b-be12-33e0aca88555",
   "metadata": {},
   "outputs": [
    {
     "name": "stdout",
     "output_type": "stream",
     "text": [
      "  if type(word) == str:\n",
      "\n",
      "    word = word.upper()\n",
      "\n",
      "    if word == word[::-1]:\n",
      "\n",
      "        return 'palindrome'\n",
      "\n"
     ]
    }
   ],
   "source": [
    "for i in data[]"
   ]
  },
  {
   "cell_type": "code",
   "execution_count": null,
   "id": "9aa5c427-68ba-40db-b0c4-12d2b65bc75b",
   "metadata": {},
   "outputs": [],
   "source": []
  },
  {
   "cell_type": "code",
   "execution_count": null,
   "id": "df56f666-19d7-4a34-a903-184885b8cd46",
   "metadata": {},
   "outputs": [],
   "source": []
  }
 ],
 "metadata": {
  "kernelspec": {
   "display_name": "Python 3 (ipykernel)",
   "language": "python",
   "name": "python3"
  },
  "language_info": {
   "codemirror_mode": {
    "name": "ipython",
    "version": 3
   },
   "file_extension": ".py",
   "mimetype": "text/x-python",
   "name": "python",
   "nbconvert_exporter": "python",
   "pygments_lexer": "ipython3",
   "version": "3.13.5"
  }
 },
 "nbformat": 4,
 "nbformat_minor": 5
}

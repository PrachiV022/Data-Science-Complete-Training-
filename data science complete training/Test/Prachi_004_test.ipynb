{
 "cells": [
  {
   "cell_type": "code",
   "execution_count": 1,
   "id": "82232e3e-5c54-4e09-a67c-e69dc03f0bae",
   "metadata": {},
   "outputs": [],
   "source": [
    "ans 1 = list is  written betwen square brackets[] and list is mutable means values can be modify in list\n",
    "        eg:- [1,2,3,4,5]\n",
    "        tuple is written betweeen paranthesis() and tuple is immutable mean values cannot be modify or change in tuple.\n",
    "        eg:- (1,2,3,4,5)"
   ]
  },
  {
   "cell_type": "code",
   "execution_count": 3,
   "id": "382b8582-c5c2-444b-b63c-2504fe8d4d6f",
   "metadata": {},
   "outputs": [
    {
     "name": "stdin",
     "output_type": "stream",
     "text": [
      "age:  19\n"
     ]
    }
   ],
   "source": [
    "# ans 2 = input function is used to take inputs from user\n",
    "#         to take integer datatype input\n",
    "a = int(input('age: '))"
   ]
  },
  {
   "cell_type": "code",
   "execution_count": 5,
   "id": "df5994d4-8ea7-46a8-893e-c8512d30229b",
   "metadata": {},
   "outputs": [
    {
     "name": "stdin",
     "output_type": "stream",
     "text": [
      "name:  prachi\n"
     ]
    },
    {
     "name": "stdout",
     "output_type": "stream",
     "text": [
      "<class 'str'>\n"
     ]
    }
   ],
   "source": [
    "a = (input('name: '))\n",
    "print(type(a))"
   ]
  },
  {
   "cell_type": "code",
   "execution_count": 60,
   "id": "cb06a917-1e0c-47cc-890e-252dcf50f32e",
   "metadata": {},
   "outputs": [
    {
     "name": "stdout",
     "output_type": "stream",
     "text": [
      "{'name': 'prachi', 'class': 'E2', 'roll': 42}\n",
      "<class 'dict'>\n"
     ]
    }
   ],
   "source": [
    "# python dictionaries is a datatype in python which is written in key value pairs.\n",
    "student = {\n",
    "     'name':'prachi',\n",
    "     'class': 'E2',\n",
    "     'roll': 42\n",
    "}\n",
    "print(student)\n",
    "print(type(student))"
   ]
  },
  {
   "cell_type": "code",
   "execution_count": 21,
   "id": "f0577623-7fb7-4f7d-99a9-7b700ca18cbb",
   "metadata": {},
   "outputs": [
    {
     "name": "stdout",
     "output_type": "stream",
     "text": [
      "1\n",
      "2\n",
      "3\n",
      "4\n",
      "5\n"
     ]
    }
   ],
   "source": [
    "# for loop in python is used to run multiple iterations \n",
    "for i in range(1,6):\n",
    "    print(i)"
   ]
  },
  {
   "cell_type": "code",
   "execution_count": 51,
   "id": "83c9162d-52e6-4bda-8d41-86ab31ee4dc4",
   "metadata": {},
   "outputs": [],
   "source": [
    "# exception handling in python is used to handle errors.\n",
    "# try is a block of code where error might occur\n",
    "# except is a block which will execute when try blocks shows an error.\n",
    "# finally is a block which will run despite any error.\n",
    "\n",
    "# eg:\n",
    "def exception(a):\n",
    "    try:\n",
    "           if a == 20:\n",
    "            print('no error')\n",
    "    except:\n",
    "            print('error')\n",
    "    finally:\n",
    "        print('executed')"
   ]
  },
  {
   "cell_type": "code",
   "execution_count": 52,
   "id": "ac18389d-943d-4098-b45c-c36dbf3098da",
   "metadata": {},
   "outputs": [
    {
     "name": "stdout",
     "output_type": "stream",
     "text": [
      "no error\n",
      "executed\n"
     ]
    }
   ],
   "source": [
    "exception(20)"
   ]
  },
  {
   "cell_type": "code",
   "execution_count": 55,
   "id": "2939174b-ba70-43de-bd37-e4cebf0b5424",
   "metadata": {},
   "outputs": [],
   "source": [
    "# python modules are the functions in python, there are many modules in python (pygame,pymysql, etc.)\n"
   ]
  },
  {
   "cell_type": "code",
   "execution_count": 56,
   "id": "95e4490b-4f7c-48a9-8737-c02491015a06",
   "metadata": {},
   "outputs": [],
   "source": [
    "# object oriented programming in python is based on classes and objects , where classes are the blueprint of the objects\n",
    "# and objects ar the instances of the class.\n",
    "\n",
    "# eg\n",
    "class Student:\n",
    "    def __init__(self):\n",
    "        self.name= name"
   ]
  },
  {
   "cell_type": "code",
   "execution_count": 69,
   "id": "7498e07b-4d07-4c3b-88b6-73a497249cbd",
   "metadata": {},
   "outputs": [],
   "source": [
    "def area():\n",
    "    r = int(input('enter radius'))\n",
    "    area_of_circle = 3.14*r*r\n",
    "    print('area o circle is',area_of_circle)"
   ]
  },
  {
   "cell_type": "code",
   "execution_count": 70,
   "id": "47efa3aa-6a63-4237-b833-ff7b2fa50509",
   "metadata": {},
   "outputs": [
    {
     "name": "stdin",
     "output_type": "stream",
     "text": [
      "enter radius 5\n"
     ]
    },
    {
     "name": "stdout",
     "output_type": "stream",
     "text": [
      "area o circle is 78.5\n"
     ]
    }
   ],
   "source": [
    "area()"
   ]
  },
  {
   "cell_type": "code",
   "execution_count": 79,
   "id": "092c316e-b816-4f1c-a4f1-08f0b44239a4",
   "metadata": {},
   "outputs": [],
   "source": [
    "def user(name, age):\n",
    "    text = f'''hello {name},you are {age} years old! '''\n",
    "    return text"
   ]
  },
  {
   "cell_type": "code",
   "execution_count": 80,
   "id": "15fbe1d3-349d-44ef-bb0b-d32094cc439e",
   "metadata": {},
   "outputs": [
    {
     "data": {
      "text/plain": [
       "'hello prachi,you are 19 years old! '"
      ]
     },
     "execution_count": 80,
     "metadata": {},
     "output_type": "execute_result"
    }
   ],
   "source": [
    "user('prachi',19)"
   ]
  },
  {
   "cell_type": "code",
   "execution_count": 85,
   "id": "2b0cc410-bb8c-4335-b361-c8ac6f204b80",
   "metadata": {},
   "outputs": [],
   "source": [
    "def calculator(grade):\n",
    "    if grade>=90:\n",
    "        print('A')\n",
    "    elif grade>=80:\n",
    "        print('B')\n",
    "    elif grade>=70:\n",
    "        print('Cc')\n",
    "    elif grade>=60:\n",
    "        print('D')\n",
    "    else:\n",
    "        print('F')\n",
    "        \n",
    "    "
   ]
  },
  {
   "cell_type": "code",
   "execution_count": 86,
   "id": "f3003234-1bf2-4aef-a47e-d7b13c2b1668",
   "metadata": {},
   "outputs": [
    {
     "name": "stdout",
     "output_type": "stream",
     "text": [
      "F\n"
     ]
    }
   ],
   "source": [
    "calculator(50)"
   ]
  },
  {
   "cell_type": "code",
   "execution_count": 87,
   "id": "d2f39af4-024e-45b5-a8af-4dc5247326d0",
   "metadata": {},
   "outputs": [
    {
     "name": "stdout",
     "output_type": "stream",
     "text": [
      "B\n"
     ]
    }
   ],
   "source": [
    "calculator(88)"
   ]
  },
  {
   "cell_type": "code",
   "execution_count": 88,
   "id": "4a42b7ce-61e5-45d7-99e3-03c86a20d892",
   "metadata": {},
   "outputs": [
    {
     "name": "stdout",
     "output_type": "stream",
     "text": [
      "A\n"
     ]
    }
   ],
   "source": [
    "calculator(99)"
   ]
  },
  {
   "cell_type": "code",
   "execution_count": null,
   "id": "e21325f8-5134-4a1f-9dde-1768619de8c5",
   "metadata": {},
   "outputs": [],
   "source": []
  }
 ],
 "metadata": {
  "kernelspec": {
   "display_name": "Python 3 (ipykernel)",
   "language": "python",
   "name": "python3"
  },
  "language_info": {
   "codemirror_mode": {
    "name": "ipython",
    "version": 3
   },
   "file_extension": ".py",
   "mimetype": "text/x-python",
   "name": "python",
   "nbconvert_exporter": "python",
   "pygments_lexer": "ipython3",
   "version": "3.13.5"
  }
 },
 "nbformat": 4,
 "nbformat_minor": 5
}

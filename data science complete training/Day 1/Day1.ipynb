{
 "cells": [
  {
   "cell_type": "code",
   "execution_count": 2,
   "id": "213b1318-cc8d-4e31-890c-f19a57bb1621",
   "metadata": {},
   "outputs": [],
   "source": [
    "def check_palindrome(word):\n",
    "    return word"
   ]
  },
  {
   "cell_type": "code",
   "execution_count": 3,
   "id": "2abe6acb-e964-41d5-9593-5e562475db64",
   "metadata": {},
   "outputs": [
    {
     "data": {
      "text/plain": [
       "'Ajay'"
      ]
     },
     "execution_count": 3,
     "metadata": {},
     "output_type": "execute_result"
    }
   ],
   "source": [
    "check_palindrome('Ajay')"
   ]
  },
  {
   "cell_type": "code",
   "execution_count": 4,
   "id": "22635052-eee3-4805-8f4a-5b6e2cd68ea5",
   "metadata": {},
   "outputs": [
    {
     "data": {
      "text/plain": [
       "'ykcul'"
      ]
     },
     "execution_count": 4,
     "metadata": {},
     "output_type": "execute_result"
    }
   ],
   "source": [
    "a = 'lucky'\n",
    "a[::-1]"
   ]
  },
  {
   "cell_type": "code",
   "execution_count": 5,
   "id": "05ccdb46-b24d-452c-abe5-8e9c59496b21",
   "metadata": {},
   "outputs": [
    {
     "name": "stdout",
     "output_type": "stream",
     "text": [
      "not a palindrome\n"
     ]
    }
   ],
   "source": [
    "a = 'prachi'\n",
    "\n",
    "if a == a[::-1]:\n",
    "    print('palindrome')\n",
    "else:\n",
    "    print('not a palindrome')"
   ]
  },
  {
   "cell_type": "code",
   "execution_count": 13,
   "id": "5044f82f-9e4a-42be-bcc2-6610406a98a0",
   "metadata": {},
   "outputs": [],
   "source": [
    "def check_palindrome(word):\n",
    "    word = word.upper()\n",
    "    if word == word[::-1]:\n",
    "        return 'palindrome'\n",
    "    else:\n",
    "        return'not a palindrome'"
   ]
  },
  {
   "cell_type": "code",
   "execution_count": 14,
   "id": "29c10f02-4d75-4356-950b-50d0d799fcb0",
   "metadata": {},
   "outputs": [
    {
     "data": {
      "text/plain": [
       "'palindrome'"
      ]
     },
     "execution_count": 14,
     "metadata": {},
     "output_type": "execute_result"
    }
   ],
   "source": [
    "check_palindrome('nitin')"
   ]
  },
  {
   "cell_type": "code",
   "execution_count": 16,
   "id": "37c3e1a4-00ec-4388-b34f-ededc1d8245c",
   "metadata": {},
   "outputs": [],
   "source": [
    "def check_palindrome(word:str):\n",
    "  if type(word) == str:\n",
    "    word = word.upper()\n",
    "    if word == word[::-1]:\n",
    "        return 'palindrome'\n",
    "    else:\n",
    "        return'not a palindrome'\n",
    "  else:\n",
    "    return 'Invalid Data Type'"
   ]
  },
  {
   "cell_type": "code",
   "execution_count": 21,
   "id": "e9e61eb5-0d2c-432d-adba-2fd8658dfc57",
   "metadata": {},
   "outputs": [
    {
     "data": {
      "text/plain": [
       "'palindrome'"
      ]
     },
     "execution_count": 21,
     "metadata": {},
     "output_type": "execute_result"
    }
   ],
   "source": [
    "check_palindrome('nitin')"
   ]
  },
  {
   "cell_type": "code",
   "execution_count": 25,
   "id": "1b253293-dced-40de-93d2-94e17e0aed68",
   "metadata": {},
   "outputs": [],
   "source": [
    "def give_fibo(n):\n",
    "    fibo = [0,1]\n",
    "    for i in range(n-2):\n",
    "        last_num = fibo[-1]\n",
    "        second_last_num = fibo[-2]\n",
    "        next_num = last_num + second_last_num\n",
    "        fibo.append(next_num)\n",
    "    return fibo\n",
    "        "
   ]
  },
  {
   "cell_type": "code",
   "execution_count": 26,
   "id": "fa7b96f7-8a7c-4a9e-982f-4e0f91ed02f1",
   "metadata": {},
   "outputs": [
    {
     "name": "stdout",
     "output_type": "stream",
     "text": [
      "[0, 1, 1, 2, 3, 5, 8, 13, 21, 34]\n"
     ]
    }
   ],
   "source": [
    "print(give_fibo(10))"
   ]
  },
  {
   "cell_type": "code",
   "execution_count": 27,
   "id": "58ec67a1-8485-4648-b446-e1aeac30c4da",
   "metadata": {},
   "outputs": [],
   "source": [
    "def check_prime(number):\n",
    "    for i in range(2, number):\n",
    "        if number % i == 0:\n",
    "            return 'Not A Prime Number'\n",
    "            break\n",
    "    else:\n",
    "        return 'prime number'"
   ]
  },
  {
   "cell_type": "code",
   "execution_count": 31,
   "id": "11ef3a5a-5472-450d-9f53-24e05b5b5dc3",
   "metadata": {},
   "outputs": [
    {
     "data": {
      "text/plain": [
       "'Not A Prime Number'"
      ]
     },
     "execution_count": 31,
     "metadata": {},
     "output_type": "execute_result"
    }
   ],
   "source": [
    "check_prime(77)"
   ]
  },
  {
   "cell_type": "code",
   "execution_count": 33,
   "id": "59fd4143-0701-454d-ae3a-af58a8024158",
   "metadata": {},
   "outputs": [
    {
     "name": "stdout",
     "output_type": "stream",
     "text": [
      "* \n",
      "* * \n",
      "* * * \n",
      "* * * * \n",
      "* * * * * \n"
     ]
    }
   ],
   "source": [
    "n = 5\n",
    "\n",
    "for i in range(1, n+1):\n",
    " print(i* '* ')"
   ]
  },
  {
   "cell_type": "code",
   "execution_count": 44,
   "id": "e008198f-8d0e-4f18-8541-66cfb15c2dd0",
   "metadata": {},
   "outputs": [
    {
     "name": "stdout",
     "output_type": "stream",
     "text": [
      "    * \n",
      "   * * \n",
      "  * * * \n",
      " * * * * \n",
      "* * * * * \n"
     ]
    }
   ],
   "source": [
    "n = 5\n",
    "\n",
    "for i in range(1, n+1):\n",
    " print(' '*(n-i) + i * '* ')"
   ]
  },
  {
   "cell_type": "code",
   "execution_count": 46,
   "id": "3c7eefa7-fee1-4831-be27-4958a32a3663",
   "metadata": {},
   "outputs": [],
   "source": [
    "def print_star(n = 5, typ = 'left'):\n",
    "    if typ == 'left':\n",
    "        space = ''\n",
    "    elif typ == 'right':\n",
    "        space = '  '\n",
    "    elif typ == 'centre':\n",
    "        space = ' '\n",
    "    for i in range(1, n+1):\n",
    "         print(' '*(n-i) + i * '* ')"
   ]
  },
  {
   "cell_type": "code",
   "execution_count": 47,
   "id": "d5fe6e01-8f21-4491-b510-d54f13f80152",
   "metadata": {},
   "outputs": [
    {
     "name": "stdout",
     "output_type": "stream",
     "text": [
      "   * \n",
      "  * * \n",
      " * * * \n",
      "* * * * \n"
     ]
    }
   ],
   "source": [
    "print_star(4,'centre')"
   ]
  },
  {
   "cell_type": "code",
   "execution_count": 61,
   "id": "910585d7-6b8f-446b-ae6e-5b89c0686f2a",
   "metadata": {},
   "outputs": [],
   "source": [
    "def sum_of_natural_numbers(n):\n",
    "    result = 0 \n",
    "    for i in range(1,n+1):\n",
    "        result += i\n",
    "    return result"
   ]
  },
  {
   "cell_type": "code",
   "execution_count": 62,
   "id": "49f1487f-cc61-4478-8a84-b14d1ce49a77",
   "metadata": {},
   "outputs": [
    {
     "data": {
      "text/plain": [
       "21"
      ]
     },
     "execution_count": 62,
     "metadata": {},
     "output_type": "execute_result"
    }
   ],
   "source": [
    "sum_of_natural_numbers(6)"
   ]
  },
  {
   "cell_type": "code",
   "execution_count": 65,
   "id": "aa09c54d-1121-4555-8689-0767e0fa74d4",
   "metadata": {},
   "outputs": [],
   "source": [
    "def factorial(n):\n",
    "  result = 1\n",
    "  for i in range(1,n+1):\n",
    "        result *= i\n",
    "  return result\n",
    "    "
   ]
  },
  {
   "cell_type": "code",
   "execution_count": 68,
   "id": "d9917075-6357-4d6a-97c2-aed8caf53f41",
   "metadata": {},
   "outputs": [
    {
     "data": {
      "text/plain": [
       "6"
      ]
     },
     "execution_count": 68,
     "metadata": {},
     "output_type": "execute_result"
    }
   ],
   "source": [
    "factorial(3)"
   ]
  },
  {
   "cell_type": "code",
   "execution_count": 72,
   "id": "98a1bfd5-4372-459c-98f2-5197fdf12f39",
   "metadata": {},
   "outputs": [],
   "source": [
    "def print_star(n = 5, typ = 'left',shape = '*'):\n",
    "    if typ == 'left':\n",
    "        space = ''\n",
    "    elif typ == 'right':\n",
    "        space = '  '\n",
    "    elif typ == 'centre':\n",
    "        space = ' '\n",
    "    for i in range(1, n+1):\n",
    "        print(space*(n-i) + i*f'{shape} ')"
   ]
  },
  {
   "cell_type": "code",
   "execution_count": 74,
   "id": "65eb2e93-c243-418d-a48d-d7e73ea15886",
   "metadata": {},
   "outputs": [
    {
     "name": "stdout",
     "output_type": "stream",
     "text": [
      "          & \n",
      "        & & \n",
      "      & & & \n",
      "    & & & & \n",
      "  & & & & & \n",
      "& & & & & & \n"
     ]
    }
   ],
   "source": [
    "print_star(6,'right','&')"
   ]
  },
  {
   "cell_type": "code",
   "execution_count": 89,
   "id": "60284cd4-0e3e-4ea6-b5cd-8dca2684ce8d",
   "metadata": {},
   "outputs": [],
   "source": [
    "def total_sales(*args):\n",
    "    print(args) #args can call multiple arguments"
   ]
  },
  {
   "cell_type": "code",
   "execution_count": 90,
   "id": "71536765-9bdf-4f6a-add6-a7bd0bd5b9fa",
   "metadata": {},
   "outputs": [
    {
     "name": "stdout",
     "output_type": "stream",
     "text": [
      "(5, 1, 5, 6, 8, 5, 3)\n"
     ]
    }
   ],
   "source": [
    "total_sales(5,1,5,6,8,5,3)"
   ]
  },
  {
   "cell_type": "code",
   "execution_count": 91,
   "id": "a802d13f-8321-4d3e-838d-d84b99e44b9e",
   "metadata": {},
   "outputs": [],
   "source": [
    "def total_sales(*args):\n",
    "    #unpacking\n",
    "    result = 0\n",
    "    for i in args:\n",
    "        result += i\n",
    "    return result"
   ]
  },
  {
   "cell_type": "code",
   "execution_count": 88,
   "id": "18fcbb82-4ef5-48c5-9bc8-c7a162573691",
   "metadata": {},
   "outputs": [
    {
     "data": {
      "text/plain": [
       "26"
      ]
     },
     "execution_count": 88,
     "metadata": {},
     "output_type": "execute_result"
    }
   ],
   "source": [
    "total_sales(5,4,9,8)"
   ]
  },
  {
   "cell_type": "code",
   "execution_count": 1,
   "id": "b6c549cf-2d1d-4714-b3f6-79a3922b1c7f",
   "metadata": {},
   "outputs": [
    {
     "name": "stdout",
     "output_type": "stream",
     "text": [
      "4\n"
     ]
    }
   ],
   "source": [
    "sales = [48558,88,99,755,4,555,455]\n",
    "min_element = sales[0] # assuming element of index 0 is minimum\n",
    "\n",
    "for i in sales[1:]:\n",
    "    if i < min_element:\n",
    "        min_element = i\n",
    "print(min_element)"
   ]
  },
  {
   "cell_type": "code",
   "execution_count": 96,
   "id": "40186686-d346-4891-b338-f55b410ed8c4",
   "metadata": {},
   "outputs": [
    {
     "name": "stdout",
     "output_type": "stream",
     "text": [
      "755\n"
     ]
    }
   ],
   "source": [
    "sales = [48,88,99,755,4,555,455]\n",
    "max_element = sales[0]\n",
    "\n",
    "for i in sales[1:]:\n",
    "    if i > max_element:\n",
    "        max_element = i\n",
    "print(max_element)"
   ]
  },
  {
   "cell_type": "code",
   "execution_count": 104,
   "id": "aee47744-d21f-41a3-bc2a-dbd837c5048b",
   "metadata": {},
   "outputs": [],
   "source": [
    "def max(*data):\n",
    "    max_ele = data[0]\n",
    "    for i in data[1:]:\n",
    "        if i > max_ele:\n",
    "            max_ele = i\n",
    "    return max_ele"
   ]
  },
  {
   "cell_type": "code",
   "execution_count": 105,
   "id": "ee2a0939-cf9f-4c62-b565-3716202ee2ac",
   "metadata": {},
   "outputs": [
    {
     "data": {
      "text/plain": [
       "100"
      ]
     },
     "execution_count": 105,
     "metadata": {},
     "output_type": "execute_result"
    }
   ],
   "source": [
    "max(100,99,88,75,4,2,66,89)"
   ]
  },
  {
   "cell_type": "code",
   "execution_count": 106,
   "id": "b72ba72f-0be8-4860-92be-5c42d41e4487",
   "metadata": {},
   "outputs": [],
   "source": [
    "def minn(*data):\n",
    "    minn_ele = data[0]\n",
    "    for i in data[1:]:\n",
    "        if i < minn_ele:\n",
    "            minn_ele = i\n",
    "    return minn_ele"
   ]
  },
  {
   "cell_type": "code",
   "execution_count": 107,
   "id": "e7101193-50ce-4c14-b11d-a813e8416804",
   "metadata": {},
   "outputs": [
    {
     "data": {
      "text/plain": [
       "1"
      ]
     },
     "execution_count": 107,
     "metadata": {},
     "output_type": "execute_result"
    }
   ],
   "source": [
    "minn(1,2,55,66,100)"
   ]
  },
  {
   "cell_type": "code",
   "execution_count": 108,
   "id": "9adf945f-f62a-4afb-879b-e240f2ab257a",
   "metadata": {},
   "outputs": [],
   "source": [
    "company = ['ola','uber','rapido']\n",
    "\n",
    "def add_hashtag(*company):\n",
    "    result = []\n",
    "    for i in company:\n",
    "        result.append('#' + i.upper())\n",
    "    return result"
   ]
  },
  {
   "cell_type": "code",
   "execution_count": 111,
   "id": "68c610dd-3b05-43c9-8aa5-b89a06ee9356",
   "metadata": {},
   "outputs": [
    {
     "data": {
      "text/plain": [
       "['#OLA', '#UBER', '#RAPIDO']"
      ]
     },
     "execution_count": 111,
     "metadata": {},
     "output_type": "execute_result"
    }
   ],
   "source": [
    "add_hashtag(*company)"
   ]
  },
  {
   "cell_type": "code",
   "execution_count": 15,
   "id": "380d8fef-436c-4797-964e-0599b56d35ee",
   "metadata": {},
   "outputs": [],
   "source": [
    "def store_records(name,age,sec,roll_no,Class):\n",
    "    data = {'Name': name, 'Age': age, 'Sec' : sec, 'Roll_no' : roll_no, 'Class': Class}\n",
    "    import pandas as pd\n",
    "    result = pd.DataFrame(data, index=[1])\n",
    "    return result"
   ]
  },
  {
   "cell_type": "code",
   "execution_count": 16,
   "id": "2b4d2ffe-24ad-4840-a4af-c76f2b296c01",
   "metadata": {},
   "outputs": [
    {
     "data": {
      "text/html": [
       "<div>\n",
       "<style scoped>\n",
       "    .dataframe tbody tr th:only-of-type {\n",
       "        vertical-align: middle;\n",
       "    }\n",
       "\n",
       "    .dataframe tbody tr th {\n",
       "        vertical-align: top;\n",
       "    }\n",
       "\n",
       "    .dataframe thead th {\n",
       "        text-align: right;\n",
       "    }\n",
       "</style>\n",
       "<table border=\"1\" class=\"dataframe\">\n",
       "  <thead>\n",
       "    <tr style=\"text-align: right;\">\n",
       "      <th></th>\n",
       "      <th>Name</th>\n",
       "      <th>Age</th>\n",
       "      <th>Sec</th>\n",
       "      <th>Roll_no</th>\n",
       "      <th>Class</th>\n",
       "    </tr>\n",
       "  </thead>\n",
       "  <tbody>\n",
       "    <tr>\n",
       "      <th>1</th>\n",
       "      <td>prachi</td>\n",
       "      <td>19</td>\n",
       "      <td>E2</td>\n",
       "      <td>14</td>\n",
       "      <td>BCA</td>\n",
       "    </tr>\n",
       "  </tbody>\n",
       "</table>\n",
       "</div>"
      ],
      "text/plain": [
       "     Name  Age Sec  Roll_no Class\n",
       "1  prachi   19  E2       14   BCA"
      ]
     },
     "metadata": {},
     "output_type": "display_data"
    },
    {
     "data": {
      "text/html": [
       "<div>\n",
       "<style scoped>\n",
       "    .dataframe tbody tr th:only-of-type {\n",
       "        vertical-align: middle;\n",
       "    }\n",
       "\n",
       "    .dataframe tbody tr th {\n",
       "        vertical-align: top;\n",
       "    }\n",
       "\n",
       "    .dataframe thead th {\n",
       "        text-align: right;\n",
       "    }\n",
       "</style>\n",
       "<table border=\"1\" class=\"dataframe\">\n",
       "  <thead>\n",
       "    <tr style=\"text-align: right;\">\n",
       "      <th></th>\n",
       "      <th>Name</th>\n",
       "      <th>Age</th>\n",
       "      <th>Sec</th>\n",
       "      <th>Roll_no</th>\n",
       "      <th>Class</th>\n",
       "    </tr>\n",
       "  </thead>\n",
       "  <tbody>\n",
       "    <tr>\n",
       "      <th>1</th>\n",
       "      <td>anjali</td>\n",
       "      <td>19</td>\n",
       "      <td>E2</td>\n",
       "      <td>14</td>\n",
       "      <td>BCA</td>\n",
       "    </tr>\n",
       "  </tbody>\n",
       "</table>\n",
       "</div>"
      ],
      "text/plain": [
       "     Name  Age Sec  Roll_no Class\n",
       "1  anjali   19  E2       14   BCA"
      ]
     },
     "metadata": {},
     "output_type": "display_data"
    },
    {
     "data": {
      "text/html": [
       "<div>\n",
       "<style scoped>\n",
       "    .dataframe tbody tr th:only-of-type {\n",
       "        vertical-align: middle;\n",
       "    }\n",
       "\n",
       "    .dataframe tbody tr th {\n",
       "        vertical-align: top;\n",
       "    }\n",
       "\n",
       "    .dataframe thead th {\n",
       "        text-align: right;\n",
       "    }\n",
       "</style>\n",
       "<table border=\"1\" class=\"dataframe\">\n",
       "  <thead>\n",
       "    <tr style=\"text-align: right;\">\n",
       "      <th></th>\n",
       "      <th>Name</th>\n",
       "      <th>Age</th>\n",
       "      <th>Sec</th>\n",
       "      <th>Roll_no</th>\n",
       "      <th>Class</th>\n",
       "    </tr>\n",
       "  </thead>\n",
       "  <tbody>\n",
       "    <tr>\n",
       "      <th>1</th>\n",
       "      <td>roshni</td>\n",
       "      <td>19</td>\n",
       "      <td>E2</td>\n",
       "      <td>14</td>\n",
       "      <td>BCA</td>\n",
       "    </tr>\n",
       "  </tbody>\n",
       "</table>\n",
       "</div>"
      ],
      "text/plain": [
       "     Name  Age Sec  Roll_no Class\n",
       "1  roshni   19  E2       14   BCA"
      ]
     },
     "metadata": {},
     "output_type": "display_data"
    }
   ],
   "source": [
    "display(store_records(name='prachi',age=19 ,sec='E2',roll_no=14 ,Class='BCA'))\n",
    "display(store_records(name='anjali',age=19 ,sec='E2',roll_no=14 ,Class='BCA'))\n",
    "display(store_records(name='roshni',age=19 ,sec='E2',roll_no=14 ,Class='BCA'))"
   ]
  },
  {
   "cell_type": "code",
   "execution_count": 12,
   "id": "950f4f90-1185-4200-ba17-3645468150f6",
   "metadata": {},
   "outputs": [],
   "source": [
    "def student_records(**kwargs):\n",
    "    import pandas as pd\n",
    "    result = pd.DataFrame(kwargs, index=[1])\n",
    "    return result"
   ]
  },
  {
   "cell_type": "code",
   "execution_count": 130,
   "id": "a01afa2c-6d9b-46af-a662-effc9dc65148",
   "metadata": {},
   "outputs": [
    {
     "data": {
      "text/html": [
       "<div>\n",
       "<style scoped>\n",
       "    .dataframe tbody tr th:only-of-type {\n",
       "        vertical-align: middle;\n",
       "    }\n",
       "\n",
       "    .dataframe tbody tr th {\n",
       "        vertical-align: top;\n",
       "    }\n",
       "\n",
       "    .dataframe thead th {\n",
       "        text-align: right;\n",
       "    }\n",
       "</style>\n",
       "<table border=\"1\" class=\"dataframe\">\n",
       "  <thead>\n",
       "    <tr style=\"text-align: right;\">\n",
       "      <th></th>\n",
       "      <th>name</th>\n",
       "      <th>age</th>\n",
       "      <th>sec</th>\n",
       "      <th>address</th>\n",
       "    </tr>\n",
       "  </thead>\n",
       "  <tbody>\n",
       "    <tr>\n",
       "      <th>1</th>\n",
       "      <td>prachi</td>\n",
       "      <td>19</td>\n",
       "      <td>E2</td>\n",
       "      <td>delhi</td>\n",
       "    </tr>\n",
       "  </tbody>\n",
       "</table>\n",
       "</div>"
      ],
      "text/plain": [
       "     name  age sec address\n",
       "1  prachi   19  E2   delhi"
      ]
     },
     "execution_count": 130,
     "metadata": {},
     "output_type": "execute_result"
    }
   ],
   "source": [
    "student_records(name='prachi', age= 19, sec= 'E2', address= 'delhi')"
   ]
  },
  {
   "cell_type": "code",
   "execution_count": 7,
   "id": "12847642-4749-4679-9b8e-4364f588b50a",
   "metadata": {},
   "outputs": [],
   "source": [
    "def student_records(**kwargs):\n",
    "    import pandas as pd\n",
    "    try:\n",
    "        data = pd.DataFrame(kwargs)\n",
    "        return data\n",
    "    except:\n",
    "        #try\n",
    "            #pass\n",
    "        #except\n",
    "            #pass\n",
    "        data = pd.DataFrame(kwargs, index=[1])\n",
    "        return data"
   ]
  },
  {
   "cell_type": "code",
   "execution_count": 9,
   "id": "abfafc70-9e78-456f-ba7b-9d279884fb37",
   "metadata": {},
   "outputs": [
    {
     "data": {
      "text/html": [
       "<div>\n",
       "<style scoped>\n",
       "    .dataframe tbody tr th:only-of-type {\n",
       "        vertical-align: middle;\n",
       "    }\n",
       "\n",
       "    .dataframe tbody tr th {\n",
       "        vertical-align: top;\n",
       "    }\n",
       "\n",
       "    .dataframe thead th {\n",
       "        text-align: right;\n",
       "    }\n",
       "</style>\n",
       "<table border=\"1\" class=\"dataframe\">\n",
       "  <thead>\n",
       "    <tr style=\"text-align: right;\">\n",
       "      <th></th>\n",
       "      <th>name</th>\n",
       "      <th>age</th>\n",
       "      <th>address</th>\n",
       "    </tr>\n",
       "  </thead>\n",
       "  <tbody>\n",
       "    <tr>\n",
       "      <th>1</th>\n",
       "      <td>Prachi</td>\n",
       "      <td>19</td>\n",
       "      <td>Delhi</td>\n",
       "    </tr>\n",
       "  </tbody>\n",
       "</table>\n",
       "</div>"
      ],
      "text/plain": [
       "     name  age address\n",
       "1  Prachi   19   Delhi"
      ]
     },
     "execution_count": 9,
     "metadata": {},
     "output_type": "execute_result"
    }
   ],
   "source": [
    "student_records(name = 'Prachi', age = 19 , address = 'Delhi')"
   ]
  },
  {
   "cell_type": "code",
   "execution_count": 10,
   "id": "782fed3d-2e74-4a30-941f-f4e0f53ec86c",
   "metadata": {},
   "outputs": [],
   "source": [
    "def student_records(**kwargs):# (*)convert multiple value into tuple , (**) convert into dictionary \n",
    "    \n",
    "    import pandas as pd\n",
    "    try:\n",
    "        data = pd.DataFrame(kwargs)\n",
    "        return data\n",
    "    except:\n",
    "        #try\n",
    "            #pass\n",
    "        #except\n",
    "            #pass\n",
    "        data = pd.DataFrame(kwargs, index=[1])\n",
    "        return data"
   ]
  },
  {
   "cell_type": "code",
   "execution_count": 14,
   "id": "ab436cf8-fd98-4273-a03c-a63b5b1a3a5c",
   "metadata": {},
   "outputs": [
    {
     "data": {
      "text/html": [
       "<div>\n",
       "<style scoped>\n",
       "    .dataframe tbody tr th:only-of-type {\n",
       "        vertical-align: middle;\n",
       "    }\n",
       "\n",
       "    .dataframe tbody tr th {\n",
       "        vertical-align: top;\n",
       "    }\n",
       "\n",
       "    .dataframe thead th {\n",
       "        text-align: right;\n",
       "    }\n",
       "</style>\n",
       "<table border=\"1\" class=\"dataframe\">\n",
       "  <thead>\n",
       "    <tr style=\"text-align: right;\">\n",
       "      <th></th>\n",
       "      <th>name</th>\n",
       "      <th>age</th>\n",
       "      <th>address</th>\n",
       "      <th>sec</th>\n",
       "    </tr>\n",
       "  </thead>\n",
       "  <tbody>\n",
       "    <tr>\n",
       "      <th>0</th>\n",
       "      <td>prachi</td>\n",
       "      <td>19</td>\n",
       "      <td>delhi</td>\n",
       "      <td>A</td>\n",
       "    </tr>\n",
       "    <tr>\n",
       "      <th>1</th>\n",
       "      <td>anjali</td>\n",
       "      <td>19</td>\n",
       "      <td>noida</td>\n",
       "      <td>B</td>\n",
       "    </tr>\n",
       "    <tr>\n",
       "      <th>2</th>\n",
       "      <td>roshni</td>\n",
       "      <td>20</td>\n",
       "      <td>gurgaon</td>\n",
       "      <td>C</td>\n",
       "    </tr>\n",
       "  </tbody>\n",
       "</table>\n",
       "</div>"
      ],
      "text/plain": [
       "     name  age  address sec\n",
       "0  prachi   19    delhi   A\n",
       "1  anjali   19    noida   B\n",
       "2  roshni   20  gurgaon   C"
      ]
     },
     "execution_count": 14,
     "metadata": {},
     "output_type": "execute_result"
    }
   ],
   "source": [
    "student_records(name = ['prachi','anjali','roshni'],\n",
    "                age = [19,19,20],\n",
    "                address = ['delhi','noida','gurgaon'],\n",
    "                sec = list('ABC'))\n",
    "    \n"
   ]
  },
  {
   "cell_type": "code",
   "execution_count": 4,
   "id": "489eba63-2bba-4db3-914d-41868a2e7ba5",
   "metadata": {},
   "outputs": [],
   "source": [
    "def sound_box(paisa,platform = 'Paytm'):\n",
    "    from gtts import gTTS\n",
    "    text  = f'''{platform} par {paisa} rs Prapt hue.'''\n",
    "    audio = gTTS(text)\n",
    "    audio.save('paytm.mp3')\n",
    "\n",
    "    import pygame as p\n",
    "    p.init()\n",
    "\n",
    "    music = p.mixer.Sound('paytm.mp3')\n",
    "    music.play()"
   ]
  },
  {
   "cell_type": "code",
   "execution_count": null,
   "id": "2a04569e-c30f-40b5-b2ea-3dffb253c0e2",
   "metadata": {},
   "outputs": [],
   "source": []
  }
 ],
 "metadata": {
  "kernelspec": {
   "display_name": "Python 3 (ipykernel)",
   "language": "python",
   "name": "python3"
  },
  "language_info": {
   "codemirror_mode": {
    "name": "ipython",
    "version": 3
   },
   "file_extension": ".py",
   "mimetype": "text/x-python",
   "name": "python",
   "nbconvert_exporter": "python",
   "pygments_lexer": "ipython3",
   "version": "3.13.5"
  }
 },
 "nbformat": 4,
 "nbformat_minor": 5
}
